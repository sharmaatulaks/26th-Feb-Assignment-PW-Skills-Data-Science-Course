{
 "cells": [
  {
   "cell_type": "markdown",
   "id": "66a2c579-6951-45c0-b489-58d53047f2d6",
   "metadata": {},
   "source": [
    "# <center> 26th Feb Assignment"
   ]
  },
  {
   "cell_type": "code",
   "execution_count": 12,
   "id": "174427e7-431c-4e08-940d-42c059787922",
   "metadata": {},
   "outputs": [],
   "source": [
    "# Consider the below code to answer further questions:\n",
    "import pandas as pd    \n",
    "import numpy as np\n",
    "\n",
    "list_ = [ '1' , '2' , '3' , '4' , '5' ]\n",
    "array_list = np.array(list_)"
   ]
  },
  {
   "cell_type": "markdown",
   "id": "19df6833-e49b-45d0-b374-382747269d67",
   "metadata": {},
   "source": [
    "# Q1:-  Is there any difference in the data type of variables list_ and array_list? If there is then write a code to print the data types of both the variables."
   ]
  },
  {
   "cell_type": "markdown",
   "id": "9f1c16a3-6806-4188-afa7-b7c04309b3c4",
   "metadata": {},
   "source": [
    "Ans1 :- Yes, there is a difference in the data type of the variables list_ and array_list. The list_ variable is a Python list object that contains string values, while array_list is a NumPy array object that contains the same string values but with a data type of numpy.str_."
   ]
  },
  {
   "cell_type": "code",
   "execution_count": 17,
   "id": "2566533b-f4ac-4abd-94f5-043f3dc6fc06",
   "metadata": {},
   "outputs": [
    {
     "name": "stdout",
     "output_type": "stream",
     "text": [
      "<class 'list'>\n",
      "<class 'numpy.ndarray'>\n"
     ]
    }
   ],
   "source": [
    "print(type(list_))\n",
    "print(type(array_list))"
   ]
  },
  {
   "cell_type": "markdown",
   "id": "1ffa5e53-47a2-411b-8399-e88b05f70e23",
   "metadata": {},
   "source": [
    "# Q2. Write a code to print the data type of each and every element of both the variables list_ and arra_list."
   ]
  },
  {
   "cell_type": "code",
   "execution_count": 21,
   "id": "f40feece-f55b-49b2-a802-7f844f5feaad",
   "metadata": {},
   "outputs": [
    {
     "name": "stdout",
     "output_type": "stream",
     "text": [
      "<class 'str'>\n",
      "<class 'str'>\n",
      "<class 'str'>\n",
      "<class 'str'>\n",
      "<class 'str'>\n"
     ]
    }
   ],
   "source": [
    "for i in list_:\n",
    "    print(type(i))"
   ]
  },
  {
   "cell_type": "code",
   "execution_count": 22,
   "id": "d7dd6d91-c1ff-4643-b9ca-d2fdbff757ed",
   "metadata": {},
   "outputs": [
    {
     "name": "stdout",
     "output_type": "stream",
     "text": [
      "<class 'numpy.str_'>\n",
      "<class 'numpy.str_'>\n",
      "<class 'numpy.str_'>\n",
      "<class 'numpy.str_'>\n",
      "<class 'numpy.str_'>\n"
     ]
    }
   ],
   "source": [
    "for i in array_list:\n",
    "    print(type(i))"
   ]
  },
  {
   "cell_type": "markdown",
   "id": "f91dff54-146d-4eeb-828c-b107a116e67e",
   "metadata": {},
   "source": [
    "# Q3:- Considering the following changes in the variable, array_list:"
   ]
  },
  {
   "cell_type": "code",
   "execution_count": 23,
   "id": "1a099cf0-1a2e-44ff-9e6c-d7f108ba851e",
   "metadata": {},
   "outputs": [],
   "source": [
    "array_list = np.array(object = list_, dtype = int)"
   ]
  },
  {
   "cell_type": "markdown",
   "id": "d25cee83-2cb8-4059-a049-20ff706c5e33",
   "metadata": {},
   "source": [
    "Will there be any difference in the data type of the elements present in both the variables, list_ and\n",
    "arra_list? If so then print the data types of each and every element present in both the variables, list_\n",
    "and arra_list."
   ]
  },
  {
   "cell_type": "markdown",
   "id": "e82a36f1-30fb-478e-ac2f-f5842f514a9a",
   "metadata": {},
   "source": [
    "Ans3:- Yes, The variables in array_list will have data type as int 64"
   ]
  },
  {
   "cell_type": "code",
   "execution_count": 25,
   "id": "3f98a884-0840-4cde-9b4a-39780c399984",
   "metadata": {},
   "outputs": [
    {
     "name": "stdout",
     "output_type": "stream",
     "text": [
      "<class 'numpy.int64'>\n",
      "<class 'numpy.int64'>\n",
      "<class 'numpy.int64'>\n",
      "<class 'numpy.int64'>\n",
      "<class 'numpy.int64'>\n"
     ]
    }
   ],
   "source": [
    "for i in array_list:\n",
    "    print(type(i))"
   ]
  },
  {
   "cell_type": "markdown",
   "id": "74a8082f-dc49-451f-ad58-f73484c6b5fd",
   "metadata": {},
   "source": [
    " "
   ]
  },
  {
   "cell_type": "markdown",
   "id": "5e7144c8-e349-42d0-acd1-8436b9faca31",
   "metadata": {},
   "source": [
    "# Consider the below code to answer further questions:"
   ]
  },
  {
   "cell_type": "code",
   "execution_count": 27,
   "id": "2629116f-7523-42a2-ad76-bcc2a45392bc",
   "metadata": {},
   "outputs": [],
   "source": [
    "import numpy as np\n",
    "num_list = [ [ 1 , 2 , 3 ] , [ 4 , 5 , 6 ] ]\n",
    "num_array = np.array(object = num_list)"
   ]
  },
  {
   "cell_type": "markdown",
   "id": "fb6d4a88-e632-426a-92d4-4d24c76ad9cf",
   "metadata": {},
   "source": [
    "# Q4. Write a code to find the following characteristics of variable, num_array:\n",
    "(i) shape\n",
    "\n",
    "(ii) size"
   ]
  },
  {
   "cell_type": "raw",
   "id": "5f66a321-8b01-41ae-8dd3-fa8ba77a27a2",
   "metadata": {},
   "source": [
    "num_array.shape"
   ]
  },
  {
   "cell_type": "markdown",
   "id": "b5f4f428-98b8-4d28-aeee-fcd686381d7c",
   "metadata": {},
   "source": [
    "shape function shows the dimension of num_array. It returns a tuple of integers that represent the shape of the array. as the num_array is having 2 rows and 3 columns."
   ]
  },
  {
   "cell_type": "code",
   "execution_count": 30,
   "id": "39468373-10f2-4255-b96e-139e944ad6f8",
   "metadata": {},
   "outputs": [
    {
     "data": {
      "text/plain": [
       "6"
      ]
     },
     "execution_count": 30,
     "metadata": {},
     "output_type": "execute_result"
    }
   ],
   "source": [
    "num_array.size"
   ]
  },
  {
   "cell_type": "markdown",
   "id": "4c1dced9-8c7f-406c-abb8-55668e43ed10",
   "metadata": {},
   "source": [
    "size shows the number of elements in an array"
   ]
  },
  {
   "cell_type": "code",
   "execution_count": 31,
   "id": "b1c794e7-a0ab-4e8f-9b25-23f0127cc279",
   "metadata": {},
   "outputs": [
    {
     "data": {
      "text/plain": [
       "array([[1, 2, 3],\n",
       "       [4, 5, 6]])"
      ]
     },
     "execution_count": 31,
     "metadata": {},
     "output_type": "execute_result"
    }
   ],
   "source": [
    "num_array"
   ]
  },
  {
   "cell_type": "markdown",
   "id": "a8284505-35c0-4d25-8a98-3a70e5111781",
   "metadata": {},
   "source": [
    "# Q5. Write a code to create numpy array of 3*3 matrix containing zeros only, using a numpy array creation function.\n",
    "[Hint: The size of the array will be 9 and the shape will be (3,3).]"
   ]
  },
  {
   "cell_type": "code",
   "execution_count": 36,
   "id": "15b916b7-e3fe-48d0-96c6-8fb3e09bdd5c",
   "metadata": {},
   "outputs": [
    {
     "data": {
      "text/plain": [
       "array([[0., 0., 0.],\n",
       "       [0., 0., 0.],\n",
       "       [0., 0., 0.]])"
      ]
     },
     "execution_count": 36,
     "metadata": {},
     "output_type": "execute_result"
    }
   ],
   "source": [
    "# Ans 3:- \n",
    "\n",
    "import numpy as np\n",
    "\n",
    "arr = np.zeros((3,3))\n",
    "\n",
    "arr"
   ]
  },
  {
   "cell_type": "markdown",
   "id": "78b25967-6d8c-4042-8811-a6b0e03e6927",
   "metadata": {},
   "source": [
    "# Q6. Create an identity matrix of shape (5,5) using numpy functions?\n",
    "[Hint: An identity matrix is a matrix containing 1 diagonally and other elements will be 0.]"
   ]
  },
  {
   "cell_type": "code",
   "execution_count": 40,
   "id": "ae6219d6-b93c-4631-a973-b54d86c27c59",
   "metadata": {},
   "outputs": [
    {
     "name": "stdout",
     "output_type": "stream",
     "text": [
      "[[1. 0. 0. 0. 0.]\n",
      " [0. 1. 0. 0. 0.]\n",
      " [0. 0. 1. 0. 0.]\n",
      " [0. 0. 0. 1. 0.]\n",
      " [0. 0. 0. 0. 1.]]\n"
     ]
    }
   ],
   "source": [
    "import numpy as np\n",
    "\n",
    "arr2 = np.eye(5,5)\n",
    "\n",
    "print(arr2)"
   ]
  },
  {
   "cell_type": "markdown",
   "id": "f005a570-651d-4b3d-9a02-8a103f9c97e9",
   "metadata": {},
   "source": [
    "# <Center> End of Assignment"
   ]
  },
  {
   "cell_type": "code",
   "execution_count": null,
   "id": "e2c15f42-ef05-4bf5-bb70-d3184b943d8a",
   "metadata": {},
   "outputs": [],
   "source": []
  }
 ],
 "metadata": {
  "kernelspec": {
   "display_name": "Python 3 (ipykernel)",
   "language": "python",
   "name": "python3"
  },
  "language_info": {
   "codemirror_mode": {
    "name": "ipython",
    "version": 3
   },
   "file_extension": ".py",
   "mimetype": "text/x-python",
   "name": "python",
   "nbconvert_exporter": "python",
   "pygments_lexer": "ipython3",
   "version": "3.10.8"
  }
 },
 "nbformat": 4,
 "nbformat_minor": 5
}
